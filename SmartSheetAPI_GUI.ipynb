{
 "cells": [
  {
   "cell_type": "code",
   "execution_count": 20,
   "metadata": {},
   "outputs": [],
   "source": [
    "# Software Development Kits (SDKs)\n",
    "import smartsheet"
   ]
  },
  {
   "cell_type": "code",
   "execution_count": 21,
   "metadata": {},
   "outputs": [],
   "source": [
    "# Token\n",
    "TK = 'hj8lpncr2xthejeb65h2bn24a3';\n",
    "\n",
    "# Initialize client\n",
    "smartsheet_client = smartsheet.Smartsheet(TK);\n",
    "\n",
    "# Make sure we don't miss any errors\n",
    "smartsheet_client.errors_as_exceptions(True)"
   ]
  },
  {
   "cell_type": "code",
   "execution_count": 22,
   "metadata": {},
   "outputs": [],
   "source": [
    "# assume user\n",
    "smartsheet_client.assume_user(\"wwei@briskheat.com\")"
   ]
  },
  {
   "cell_type": "code",
   "execution_count": 23,
   "metadata": {},
   "outputs": [],
   "source": [
    "import os\n",
    "from datetime import date\n",
    "from pprint import pprint\n",
    "\n",
    "from simple_smartsheet import Smartsheet\n",
    "from simple_smartsheet.models import Sheet, Column, Row, Cell, ColumnType"
   ]
  },
  {
   "cell_type": "code",
   "execution_count": 24,
   "metadata": {},
   "outputs": [],
   "source": [
    "#TOKEN = os.getenv('HOME')\n",
    "#print(TOKEN)\n",
    "SHEET_NAME = 'Creating a test sheet'\n",
    "smartsheet = Smartsheet(TK)"
   ]
  },
  {
   "cell_type": "code",
   "execution_count": 25,
   "metadata": {},
   "outputs": [
    {
     "name": "stdout",
     "output_type": "stream",
     "text": [
      "[Sheet(name='Creating a test sheet', id=2599143702062980),\n",
      " Sheet(name='UTR - Record20201022', id=6658876713002884)]\n"
     ]
    }
   ],
   "source": [
    "sheets = smartsheet.sheets.list()\n",
    "pprint(sheets)"
   ]
  },
  {
   "cell_type": "code",
   "execution_count": 26,
   "metadata": {},
   "outputs": [
    {
     "name": "stdout",
     "output_type": "stream",
     "text": [
      "2599143702062980\n",
      "6658876713002884\n"
     ]
    }
   ],
   "source": [
    "# Delete the test sheet if already exists\n",
    "for sheet in sheets:\n",
    "    if sheet.name == SHEET_NAME:\n",
    "        smartsheet.sheets.delete(id = sheet.id)\n",
    "    print(sheet.id)"
   ]
  },
  {
   "cell_type": "code",
   "execution_count": 27,
   "metadata": {},
   "outputs": [],
   "source": [
    "# create a new Sheet\n",
    "new_sheet_skeleton = Sheet(\n",
    "    name = SHEET_NAME,\n",
    "    columns = [\n",
    "        Column(primary=True, title=\"Full Name\", type=ColumnType.TEXT_NUMBER),\n",
    "        Column(title = \"Number of read books\", type=ColumnType.TEXT_NUMBER),\n",
    "        Column(title = \"Birth date\", type=ColumnType.DATE),\n",
    "        Column(title = \"Library member\", type=ColumnType.CHECKBOX),\n",
    "    ],\n",
    ")"
   ]
  },
  {
   "cell_type": "code",
   "execution_count": 28,
   "metadata": {},
   "outputs": [
    {
     "name": "stdout",
     "output_type": "stream",
     "text": [
      "[Sheet(name='UTR - Record20201022', id=6658876713002884)]\n"
     ]
    }
   ],
   "source": [
    "sheets = smartsheet.sheets.list()\n",
    "pprint(sheets)"
   ]
  },
  {
   "cell_type": "code",
   "execution_count": 29,
   "metadata": {},
   "outputs": [
    {
     "name": "stdout",
     "output_type": "stream",
     "text": [
      "{'columns': [{'primary': True, 'title': 'Full Name', 'type': 'TEXT_NUMBER'},\n",
      "             {'title': 'Number of read books', 'type': 'TEXT_NUMBER'},\n",
      "             {'title': 'Birth date', 'type': 'DATE'},\n",
      "             {'title': 'Library member', 'type': 'CHECKBOX'}],\n",
      " 'effectiveAttachmentOptions': [],\n",
      " 'name': 'Creating a test sheet',\n",
      " 'rows': []}\n"
     ]
    }
   ],
   "source": [
    "# print the sheet object attributes used by the Smartsheet API (camelCase)\n",
    "pprint(new_sheet_skeleton.dump())"
   ]
  },
  {
   "cell_type": "code",
   "execution_count": 30,
   "metadata": {},
   "outputs": [
    {
     "name": "stdout",
     "output_type": "stream",
     "text": [
      "ID of the created sheet is 5778037976393604\n"
     ]
    }
   ],
   "source": [
    "# add the sheet via API\n",
    "result = smartsheet.sheets.create(new_sheet_skeleton)\n",
    "sheet = result.obj\n",
    "print(f\"ID of the created sheet is {sheet.id!r}\")"
   ]
  },
  {
   "cell_type": "code",
   "execution_count": 31,
   "metadata": {},
   "outputs": [],
   "source": [
    "# retrieve a sheet by name\n",
    "# this object is exacly the same as result.obj\n",
    "sheet = smartsheet.sheets.get(SHEET_NAME)"
   ]
  },
  {
   "cell_type": "code",
   "execution_count": 32,
   "metadata": {},
   "outputs": [
    {
     "name": "stdout",
     "output_type": "stream",
     "text": [
      "{'auto_number_format': None,\n",
      " 'contact_options': None,\n",
      " 'format': None,\n",
      " 'hidden': None,\n",
      " 'id': 2936367515756420,\n",
      " 'index': 0,\n",
      " 'locked': None,\n",
      " 'locked_for_user': None,\n",
      " 'options': None,\n",
      " 'primary': True,\n",
      " 'symbol': None,\n",
      " 'system_column_type': None,\n",
      " 'tags': None,\n",
      " 'title': 'Full Name',\n",
      " 'type': <ColumnType.TEXT_NUMBER: 'TEXT_NUMBER'>,\n",
      " 'validation': False,\n",
      " 'version': 0,\n",
      " 'width': 150}\n",
      "{'auto_number_format': None,\n",
      " 'contact_options': None,\n",
      " 'format': None,\n",
      " 'hidden': None,\n",
      " 'id': 7439967143126916,\n",
      " 'index': 1,\n",
      " 'locked': None,\n",
      " 'locked_for_user': None,\n",
      " 'options': None,\n",
      " 'primary': None,\n",
      " 'symbol': None,\n",
      " 'system_column_type': None,\n",
      " 'tags': None,\n",
      " 'title': 'Number of read books',\n",
      " 'type': <ColumnType.TEXT_NUMBER: 'TEXT_NUMBER'>,\n",
      " 'validation': False,\n",
      " 'version': 0,\n",
      " 'width': 150}\n"
     ]
    }
   ],
   "source": [
    "# get columns details by column title (case-sensitive)\n",
    "full_name_column = sheet.get_column(\"Full Name\")\n",
    "pprint(full_name_column.__dict__)\n",
    "num_books_column = sheet.get_column(\"Number of read books\")\n",
    "pprint(num_books_column.__dict__)"
   ]
  },
  {
   "cell_type": "code",
   "execution_count": 33,
   "metadata": {},
   "outputs": [],
   "source": [
    "# add rows (cells are created using different ways)\n",
    "# second way is the easist\n",
    "new_rows = [\n",
    "    Row(\n",
    "        to_top = True,\n",
    "        cells = [\n",
    "            Cell(column_id=full_name_column.id, value='William Wei'),\n",
    "            Cell(column_id=num_books_column.id, value=5),\n",
    "        ],\n",
    "    ),\n",
    "    Row(\n",
    "        to_top = True,\n",
    "        cells = sheet.make_cells(\n",
    "            {\"Full Name\": \"Bob Lee\", \"Number of read books\": 2}\n",
    "        )\n",
    "    ),\n",
    "    Row(\n",
    "        to_top = True,\n",
    "        cells = [\n",
    "            sheet.make_cell(\"Full Name\", \"Charlie Brown\"),\n",
    "            sheet.make_cell(\"Number of read books\", 1),\n",
    "            sheet.make_cell(\"Birth date\", date(1990, 1, 1)),\n",
    "        ],\n",
    "    ),\n",
    "]\n",
    "smartsheet.sheets.add_rows(sheet.id, new_rows);"
   ]
  },
  {
   "cell_type": "code",
   "execution_count": 35,
   "metadata": {},
   "outputs": [
    {
     "name": "stdout",
     "output_type": "stream",
     "text": [
      "\n",
      " Sheet after adding rows:\n",
      "[{'Birth date': None,\n",
      "  'Full Name': 'Bob Lee',\n",
      "  'Library member': False,\n",
      "  'Number of read books': 2},\n",
      " {'Birth date': datetime.date(1990, 1, 1),\n",
      "  'Full Name': 'Charlie Brown',\n",
      "  'Library member': False,\n",
      "  'Number of read books': 1},\n",
      " {'Birth date': None,\n",
      "  'Full Name': 'William Wei',\n",
      "  'Library member': False,\n",
      "  'Number of read books': 5}]\n"
     ]
    }
   ],
   "source": [
    "# sort rows by columns \"Full Name\" descending / returns updated sheet\n",
    "sheet = smartsheet.sheets.sort_rows(\n",
    "    sheet, [{\"column_title\": \"Full Name\", \"descending\": False}]\n",
    ")\n",
    "print(\"\\n Sheet after adding rows:\")\n",
    "# print a list of dictionaries containing column titles and values for each row\n",
    "pprint(sheet.as_list())"
   ]
  },
  {
   "cell_type": "code",
   "execution_count": 37,
   "metadata": {},
   "outputs": [
    {
     "name": "stdout",
     "output_type": "stream",
     "text": [
      "Charlie Brown\n"
     ]
    }
   ],
   "source": [
    "# get a specific cell and updating it:\n",
    "row_id_to_delete = None\n",
    "rows_to_update = []\n",
    "\n",
    "for row in sheet.rows:\n",
    "    full_name = row.get_cell(\"Full Name\").value\n",
    "    num_books = row.get_cell(\"Number of read books\").value\n",
    "    #print(f\"{full_name} has read {num_books} books\")\n",
    "    if full_name.startswith(\"Charlie\"):\n",
    "        updated_row = Row(\n",
    "            id = row.id, cells = [sheet.make_cell(\"Number of read books\", 15)]        \n",
    "        )\n",
    "        rows_to_update.append(updated_row)\n",
    "        print(full_name)\n",
    "    elif full_name.startswith(\"Bob\"):\n",
    "        row_id_to_delete = row.id #used later\n",
    "        \n",
    "# update rows\n",
    "smartsheet.sheets.update_rows(sheet.id, rows_to_update);\n"
   ]
  },
  {
   "cell_type": "code",
   "execution_count": null,
   "metadata": {},
   "outputs": [],
   "source": [
    "# get an updated sheet\n",
    "sheet = smartsheet.sheets.get(id=sheet.id)\n",
    "print(\"\\nSheet after updateing rows:\")\n",
    "pprint(sheet.as_list())"
   ]
  },
  {
   "cell_type": "code",
   "execution_count": null,
   "metadata": {},
   "outputs": [],
   "source": [
    "# delete a row\n",
    "smartsheet.sheets.delete_row(sheet.id, row_id_to_delete)\n",
    "\n",
    "# get an updated sheet\n",
    "sheet = smartsheet.sheets.get(id=sheet.id)\n",
    "print(\"\\nSheet after updateing rows:\")\n",
    "pprint(sheet.as_list())"
   ]
  },
  {
   "cell_type": "code",
   "execution_count": null,
   "metadata": {},
   "outputs": [],
   "source": [
    "# delete a sheet by name\n",
    "smartsheet.sheets.delete(SHEET_NAME)\n",
    "sheets = smartsheet.sheets.list()\n",
    "pprint(sheets)"
   ]
  },
  {
   "cell_type": "code",
   "execution_count": null,
   "metadata": {},
   "outputs": [],
   "source": []
  }
 ],
 "metadata": {
  "kernelspec": {
   "display_name": "Python 3",
   "language": "python",
   "name": "python3"
  },
  "language_info": {
   "codemirror_mode": {
    "name": "ipython",
    "version": 3
   },
   "file_extension": ".py",
   "mimetype": "text/x-python",
   "name": "python",
   "nbconvert_exporter": "python",
   "pygments_lexer": "ipython3",
   "version": "3.7.6"
  }
 },
 "nbformat": 4,
 "nbformat_minor": 4
}
