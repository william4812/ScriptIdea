{
 "cells": [
  {
   "cell_type": "code",
   "execution_count": 1,
   "metadata": {},
   "outputs": [],
   "source": [
    "#For-else loop"
   ]
  },
  {
   "cell_type": "code",
   "execution_count": 3,
   "metadata": {},
   "outputs": [],
   "source": [
    "def test(nums):\n",
    "    for i in nums:\n",
    "        if i == 0: # if the condition is satisfied, it hits break and the else block will not run\n",
    "            print('This is a 0.')\n",
    "            break\n",
    "    else:\n",
    "        print('There are no 0s.')"
   ]
  },
  {
   "cell_type": "code",
   "execution_count": 4,
   "metadata": {},
   "outputs": [
    {
     "name": "stdout",
     "output_type": "stream",
     "text": [
      "This is a 0.\n"
     ]
    }
   ],
   "source": [
    "test([1, 2, 3, 0])"
   ]
  },
  {
   "cell_type": "code",
   "execution_count": 5,
   "metadata": {},
   "outputs": [
    {
     "name": "stdout",
     "output_type": "stream",
     "text": [
      "There are no 0s.\n"
     ]
    }
   ],
   "source": [
    "test([1, 2, 3])"
   ]
  },
  {
   "cell_type": "code",
   "execution_count": 17,
   "metadata": {},
   "outputs": [],
   "source": [
    "def PWtest(INP):\n",
    "    numTrial = 3;\n",
    "    for i in range(0, numTrial):\n",
    "        if INP == '1983wS4812':\n",
    "            print('Correct password is authorized')\n",
    "            break\n",
    "    else:\n",
    "        print('Reach trial limits {0:2d} times'.format(numTrial) )"
   ]
  },
  {
   "cell_type": "code",
   "execution_count": 18,
   "metadata": {},
   "outputs": [
    {
     "name": "stdout",
     "output_type": "stream",
     "text": [
      "Correct password is authorized\n",
      "Reach trial limits  3 times\n"
     ]
    }
   ],
   "source": [
    "PWtest('1983wS4812'), \n",
    "PWtest('1')"
   ]
  },
  {
   "cell_type": "code",
   "execution_count": null,
   "metadata": {},
   "outputs": [],
   "source": []
  }
 ],
 "metadata": {
  "kernelspec": {
   "display_name": "Python 3",
   "language": "python",
   "name": "python3"
  },
  "language_info": {
   "codemirror_mode": {
    "name": "ipython",
    "version": 3
   },
   "file_extension": ".py",
   "mimetype": "text/x-python",
   "name": "python",
   "nbconvert_exporter": "python",
   "pygments_lexer": "ipython3",
   "version": "3.7.6"
  }
 },
 "nbformat": 4,
 "nbformat_minor": 4
}
