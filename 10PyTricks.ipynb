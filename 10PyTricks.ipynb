{
 "cells": [
  {
   "cell_type": "code",
   "execution_count": 7,
   "metadata": {},
   "outputs": [
    {
     "name": "stdout",
     "output_type": "stream",
     "text": [
      "Hello World! \n",
      " !dlroW olleH\n"
     ]
    }
   ],
   "source": [
    "# Reverse a string\n",
    "a = \"Hello World!\"; b = a[::-1]; print(a,'\\n',b)"
   ]
  },
  {
   "cell_type": "code",
   "execution_count": 8,
   "metadata": {},
   "outputs": [
    {
     "name": "stdout",
     "output_type": "stream",
     "text": [
      "1000 100 10 1\n"
     ]
    }
   ],
   "source": [
    "#Dims as variables\n",
    "array = [1, 10, 100, 1000]; a, b, c, d = array; print(d, c, b, a)"
   ]
  },
  {
   "cell_type": "code",
   "execution_count": 11,
   "metadata": {},
   "outputs": [
    {
     "name": "stdout",
     "output_type": "stream",
     "text": [
      "<itertools.chain object at 0x0000028AF174BF48>\n",
      "[1, 2, 3, 4, 5, 6]\n"
     ]
    }
   ],
   "source": [
    "#Itertoos\n",
    "c = [[1, 2], [3, 4], [5, 6]]\n",
    "#converting this matrix to a 1-D list\n",
    "import itertools as it\n",
    "newlist = list(it.chain.from_iterable(c))\n",
    "print(it.chain.from_iterable(c)); print(newlist)"
   ]
  },
  {
   "cell_type": "code",
   "execution_count": 15,
   "metadata": {},
   "outputs": [
    {
     "name": "stdout",
     "output_type": "stream",
     "text": [
      "[1, 2, 3] 4 5\n"
     ]
    }
   ],
   "source": [
    "#intelligent unpacking\n",
    "*a, b, c = [1, 2, 3, 4, 5]; print(a, b, c)"
   ]
  },
  {
   "cell_type": "code",
   "execution_count": 26,
   "metadata": {},
   "outputs": [
    {
     "name": "stdout",
     "output_type": "stream",
     "text": [
      "0 1\n",
      "1 10\n",
      "2 100\n",
      "3 1000\n"
     ]
    }
   ],
   "source": [
    "#Enumerate, getting indexes of certain value in a list\n",
    "for i, w in enumerate(array):\n",
    "    print(i, w)"
   ]
  },
  {
   "cell_type": "code",
   "execution_count": 47,
   "metadata": {},
   "outputs": [
    {
     "name": "stdout",
     "output_type": "stream",
     "text": [
      "[2, 4] [2, 5]\n",
      "[1, 2, 3, 4] [1, 2, 3, 4]\n"
     ]
    }
   ],
   "source": [
    "#Name slices,  the ability to name slices of your list\n",
    "a = [0, 1, 2, 3, 4, 5]; LASTTHREE = slice(-3, None); #slice(-3, None, None); \n",
    "print(a[slice(-4, None, 2)], a[slice(-4, None, 3)])\n",
    "print(a[slice(1, 5, 1)], a[slice(1, 5, 1)])"
   ]
  },
  {
   "cell_type": "code",
   "execution_count": 92,
   "metadata": {},
   "outputs": [
    {
     "name": "stdout",
     "output_type": "stream",
     "text": [
      "[1, 2, 3, 4, 5, 6]\n",
      "[(1, 2, 3), (4, 5, 6)]\n",
      "<zip object at 0x0000028AF1726048>\n",
      "[(1, 2), (3, 4), (5, 6)]\n",
      "[(1, 2), (3, 4), (5, 6)]\n",
      "[(1,), (2,), (3,), (4,), (5,), (6,)]\n",
      "[(1,), (2,), (3,), (4,), (5,), (6,)]\n"
     ]
    }
   ],
   "source": [
    "#Group adjacent lists\n",
    "'''\n",
    "for i in range(0, 7):\n",
    "    print(i)\n",
    "'''\n",
    "\n",
    "a = [i for i in range(1, 7)];  print(a)\n",
    "\n",
    "group_adjacent = lambda a, k: zip(*([iter(a)] * k))\n",
    "\n",
    "group_adjacent(a, 3); print(list(group_adjacent(a, 3))); print((zip(*([iter(a)] * 3))))\n",
    "group_adjacent(a, 2); print(list(group_adjacent(a, 2))); print(list(zip(*([iter(a)] * 2))))\n",
    "group_adjacent(a, 1); print(list(group_adjacent(a, 1))); print(list(zip(*([iter(a)] * 1))))"
   ]
  },
  {
   "cell_type": "code",
   "execution_count": 115,
   "metadata": {},
   "outputs": [
    {
     "name": "stdout",
     "output_type": "stream",
     "text": [
      "<generator object <genexpr> at 0x0000028AF1819D48>\n"
     ]
    }
   ],
   "source": [
    "# next(), we can access an indice and get our position number by uinsg a counter\n",
    "array1 = [5, 10, 15, 20]\n",
    "array2 = (x ** 2 for x in range(0, 10))\n",
    "counter = 0\n",
    "\n",
    "print(array2)\n",
    "#for i in array1:\n",
    "# This code wouldn't work because 'i' is not in array2.\n",
    "   # i = array2[i]\n",
    "   # i = array2[counter]\n",
    "#    ^^^ This code would because we are accessing the position of i"
   ]
  },
  {
   "cell_type": "code",
   "execution_count": 119,
   "metadata": {},
   "outputs": [],
   "source": [
    "# Counter, getting the total number of values in our data\n",
    "import collections\n",
    "A = collections.Counter([1, 1, 2, 2, 3, 3, 3, 3, 4, 5, 6, 7])"
   ]
  },
  {
   "cell_type": "code",
   "execution_count": 120,
   "metadata": {},
   "outputs": [
    {
     "data": {
      "text/plain": [
       "Counter({1: 2, 2: 2, 3: 4, 4: 1, 5: 1, 6: 1, 7: 1})"
      ]
     },
     "execution_count": 120,
     "metadata": {},
     "output_type": "execute_result"
    }
   ],
   "source": [
    "A"
   ]
  },
  {
   "cell_type": "code",
   "execution_count": 125,
   "metadata": {},
   "outputs": [
    {
     "data": {
      "text/plain": [
       "[(3, 4), (1, 2), (2, 2), (4, 1)]"
      ]
     },
     "execution_count": 125,
     "metadata": {},
     "output_type": "execute_result"
    }
   ],
   "source": [
    "A.most_common(4)"
   ]
  },
  {
   "cell_type": "code",
   "execution_count": 126,
   "metadata": {},
   "outputs": [
    {
     "data": {
      "text/plain": [
       "[(3, 4)]"
      ]
     },
     "execution_count": 126,
     "metadata": {},
     "output_type": "execute_result"
    }
   ],
   "source": [
    "A.most_common(1)"
   ]
  },
  {
   "cell_type": "code",
   "execution_count": 146,
   "metadata": {},
   "outputs": [
    {
     "name": "stdout",
     "output_type": "stream",
     "text": [
      "deque([])\n",
      "deque([1])\n",
      "deque([2, 1])\n",
      "deque([2, 1, 3, 4])\n",
      "deque([6, 5, 2, 1, 3, 4])\n",
      "deque([6, 5, 2, 1, 3])\n",
      "deque([5, 2, 1, 3])\n",
      "deque([3, 5, 2, 1])\n",
      "deque([1, 3, 5, 2])\n"
     ]
    }
   ],
   "source": [
    "#Dequene\n",
    "Q = collections.deque(); print(Q)\n",
    "Q.append(1);             print(Q)\n",
    "Q.appendleft(2);         print(Q)\n",
    "Q.extend([3, 4]);        print(Q)\n",
    "Q.extendleft([5, 6]);    print(Q)\n",
    "\n",
    "Q.pop();                 print(Q)\n",
    "Q.popleft();             print(Q)\n",
    "Q.rotate(1);             print(Q)\n",
    "Q.rotate(-3);            print(Q)"
   ]
  },
  {
   "cell_type": "code",
   "execution_count": null,
   "metadata": {},
   "outputs": [],
   "source": []
  }
 ],
 "metadata": {
  "kernelspec": {
   "display_name": "Python 3",
   "language": "python",
   "name": "python3"
  },
  "language_info": {
   "codemirror_mode": {
    "name": "ipython",
    "version": 3
   },
   "file_extension": ".py",
   "mimetype": "text/x-python",
   "name": "python",
   "nbconvert_exporter": "python",
   "pygments_lexer": "ipython3",
   "version": "3.7.6"
  }
 },
 "nbformat": 4,
 "nbformat_minor": 4
}
